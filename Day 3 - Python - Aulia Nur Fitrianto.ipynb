{
 "cells": [
  {
   "cell_type": "markdown",
   "metadata": {},
   "source": [
    "# Assignment Day 3\n",
    "\n",
    "## Question 1\n",
    "\n",
    "### You all are pilots, you want to land a plane safely, so altitude required for landing a plane is 1000ft, if it is less than that tell pilot to land the plane, or it is more than that but less than 5000ft ask the pilot to \"come down to 1000ft\", else if it more than 5000ft ask the pilot to \"go around and try later\""
   ]
  },
  {
   "cell_type": "code",
   "execution_count": 1,
   "metadata": {},
   "outputs": [
    {
     "name": "stdout",
     "output_type": "stream",
     "text": [
      "Enter altitude : 1000\n",
      "Land the plane\n"
     ]
    }
   ],
   "source": [
    "plane = input(\"Enter altitude : \")\n",
    "\n",
    "plane = int(plane)\n",
    "\n",
    "if plane <= 1000:\n",
    "    print(\"Land the plane\")\n",
    "elif plane > 1000 and plane < 5000:\n",
    "    print(\"come down to 1000ft\")\n",
    "elif plane > 5000:\n",
    "    print(\"Go around and try later\")"
   ]
  },
  {
   "cell_type": "code",
   "execution_count": 3,
   "metadata": {},
   "outputs": [
    {
     "name": "stdout",
     "output_type": "stream",
     "text": [
      "Enter altitude : 4500\n",
      "come down to 1000ft\n"
     ]
    }
   ],
   "source": [
    "plane = input(\"Enter altitude : \")\n",
    "\n",
    "plane = int(plane)\n",
    "\n",
    "if plane <= 1000:\n",
    "    print(\"Land the plane\")\n",
    "elif plane > 1000 and plane < 5000:\n",
    "    print(\"come down to 1000ft\")\n",
    "elif plane > 5000:\n",
    "    print(\"Go around and try later\")"
   ]
  },
  {
   "cell_type": "code",
   "execution_count": 4,
   "metadata": {},
   "outputs": [
    {
     "name": "stdout",
     "output_type": "stream",
     "text": [
      "Enter altitude : 6500\n",
      "Go around and try later\n"
     ]
    }
   ],
   "source": [
    "plane = input(\"Enter altitude : \")\n",
    "\n",
    "plane = int(plane)\n",
    "\n",
    "if plane <= 1000:\n",
    "    print(\"Land the plane\")\n",
    "elif plane > 1000 and plane < 5000:\n",
    "    print(\"come down to 1000ft\")\n",
    "elif plane > 5000:\n",
    "    print(\"Go around and try later\")"
   ]
  },
  {
   "cell_type": "markdown",
   "metadata": {},
   "source": [
    "## Question 2\n",
    "\n",
    "### Using for loop please print all the prime numbers between 1 - 200 using FOR LOOP AND RANGE function"
   ]
  },
  {
   "cell_type": "code",
   "execution_count": 22,
   "metadata": {},
   "outputs": [
    {
     "name": "stdout",
     "output_type": "stream",
     "text": [
      "Prime Numbers between 1-200 : \n",
      "\n",
      "2 3 5 7 11 13 17 19 23 29 31 37 41 43 47 53 59 61 67 71 73 79 83 89 97 101 103 107 109 113 127 131 137 139 149 151 157 163 167 173 179 181 191 193 197 199 "
     ]
    }
   ],
   "source": [
    "first = 2\n",
    "last = 201\n",
    "print(\"Prime Numbers between 1-200 : \")\n",
    "print(\"\")\n",
    "for prime in range(first, last + 1):\n",
    "    if prime > 1:\n",
    "        for i in range(2, prime):\n",
    "            if (prime%i) == 0:\n",
    "                break\n",
    "        else:\n",
    "            print(prime,end=\" \")"
   ]
  }
 ],
 "metadata": {
  "kernelspec": {
   "display_name": "Python 3",
   "language": "python",
   "name": "python3"
  },
  "language_info": {
   "codemirror_mode": {
    "name": "ipython",
    "version": 3
   },
   "file_extension": ".py",
   "mimetype": "text/x-python",
   "name": "python",
   "nbconvert_exporter": "python",
   "pygments_lexer": "ipython3",
   "version": "3.7.6"
  }
 },
 "nbformat": 4,
 "nbformat_minor": 4
}
